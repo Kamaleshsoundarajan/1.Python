{
 "cells": [
  {
   "cell_type": "markdown",
   "id": "aba65d26-75c3-4e5c-b732-ce87b59e572a",
   "metadata": {},
   "source": [
    "print the following satement:\n",
    "\n",
    "Welcome to Assignment-1"
   ]
  },
  {
   "cell_type": "code",
   "execution_count": 7,
   "id": "7cd52896-d581-41ae-ac02-df12653821f0",
   "metadata": {},
   "outputs": [
    {
     "name": "stdout",
     "output_type": "stream",
     "text": [
      "Welcome to Assignment-1\n"
     ]
    }
   ],
   "source": [
    "print(\"Welcome to Assignment-1\") "
   ]
  },
  {
   "cell_type": "markdown",
   "id": "d09a07ac-8d33-4d38-88d9-c229e03ccf79",
   "metadata": {},
   "source": [
    "Addition calculation\n",
    "\n",
    "Num1= 10\n",
    "Num2= 30\n",
    "Add= 40"
   ]
  },
  {
   "cell_type": "code",
   "execution_count": 11,
   "id": "9f804abf-a7d5-462f-891b-e76a76ba9d5e",
   "metadata": {},
   "outputs": [
    {
     "name": "stdout",
     "output_type": "stream",
     "text": [
      "Add\n",
      "40\n"
     ]
    }
   ],
   "source": [
    "Num1= 10\n",
    "Num2= 30\n",
    "Add=Num1+Num2 #Addition operation is performed & the values is stored in Add variable\n",
    "print(\"Add\")\n",
    "print(Add) #prints the added value stored in the variable "
   ]
  },
  {
   "cell_type": "markdown",
   "id": "f49c2d88-ee2c-4d04-ab33-b52838846638",
   "metadata": {},
   "source": [
    "Expected output:\n",
    "\n",
    "Enter the BMI Index:34 Very Overweight"
   ]
  },
  {
   "cell_type": "code",
   "execution_count": 13,
   "id": "f1377765-85d6-40ae-bedc-dbf2ffb6d5c2",
   "metadata": {},
   "outputs": [
    {
     "name": "stdin",
     "output_type": "stream",
     "text": [
      "Enter the BMI Index: 31\n"
     ]
    },
    {
     "name": "stdout",
     "output_type": "stream",
     "text": [
      "Very Overweight\n"
     ]
    }
   ],
   "source": [
    "BMI=int(input(\"Enter the BMI Index:\")) \n",
    "if(BMI>30):\n",
    "    print(\"Very Overweight\")"
   ]
  },
  {
   "cell_type": "code",
   "execution_count": null,
   "id": "55f49b61-f0f7-449f-aba6-d814adb00e0d",
   "metadata": {},
   "outputs": [],
   "source": []
  }
 ],
 "metadata": {
  "kernelspec": {
   "display_name": "Python 3 (ipykernel)",
   "language": "python",
   "name": "python3"
  },
  "language_info": {
   "codemirror_mode": {
    "name": "ipython",
    "version": 3
   },
   "file_extension": ".py",
   "mimetype": "text/x-python",
   "name": "python",
   "nbconvert_exporter": "python",
   "pygments_lexer": "ipython3",
   "version": "3.12.4"
  }
 },
 "nbformat": 4,
 "nbformat_minor": 5
}
