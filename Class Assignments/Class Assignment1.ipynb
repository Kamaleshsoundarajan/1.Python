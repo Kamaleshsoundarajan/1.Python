{
 "cells": [
  {
   "cell_type": "markdown",
   "id": "e182f248-c8f5-4b9a-99c8-1099285f56c9",
   "metadata": {},
   "source": [
    "Create a class and function, and list out the items in the list\n",
    "Calling a function inside a class\n",
    "SubfieldsInAI.Subfields()\n",
    "\n",
    "Sub-fields in AI are: Machine Learning Neural Networks Vision Robotics Speech Processing Natural Language Processing"
   ]
  },
  {
   "cell_type": "code",
   "execution_count": 1,
   "id": "64eb9b59-4095-44b8-8d07-9a5d8685af9f",
   "metadata": {},
   "outputs": [],
   "source": [
    "list=[\"Machine Learning\",\"Neural Networks\",\"Vision\",\"Robotics\",\"Speech Processing\",\"Natural Language Processing\"]"
   ]
  },
  {
   "cell_type": "code",
   "execution_count": 3,
   "id": "65ae548c-e09b-464d-8086-86028b7c433c",
   "metadata": {},
   "outputs": [],
   "source": [
    "class SubfieldsInAI():\n",
    "    def Subfields():\n",
    "        print(\"Sub-fields in AI are:\")\n",
    "        for temp in list:\n",
    "            print(temp)"
   ]
  },
  {
   "cell_type": "code",
   "execution_count": 5,
   "id": "d8bdd7ac-1e09-4e73-a092-f55b6b06d96c",
   "metadata": {},
   "outputs": [
    {
     "name": "stdout",
     "output_type": "stream",
     "text": [
      "Sub-fields in AI are:\n",
      "Machine Learning\n",
      "Neural Networks\n",
      "Vision\n",
      "Robotics\n",
      "Speech Processing\n",
      "Natural Language Processing\n"
     ]
    }
   ],
   "source": [
    "SubfieldsInAI.Subfields()"
   ]
  },
  {
   "cell_type": "markdown",
   "id": "c75bc869-5911-4678-b512-35d2c8a4e9ac",
   "metadata": {},
   "source": [
    "Create a function that checks whether the given number is Odd or Even\n",
    "OddEven.OddEven()\n",
    "\n",
    "Enter a number: 52452 52452 is Even number"
   ]
  },
  {
   "cell_type": "code",
   "execution_count": 7,
   "id": "034d4d76-9d55-446f-88a5-a24093f1f281",
   "metadata": {},
   "outputs": [],
   "source": [
    "class OddEven():\n",
    "    def OddEven():\n",
    "        num1=int(input(\"Enter a number:\"))\n",
    "        if((num1%2)==0):\n",
    "            print(num1, \"is Even number\")\n",
    "            message=\"even\"\n",
    "        else:\n",
    "            print(num1, \"is Odd\")\n",
    "            message=\"odd\"\n",
    "        return message"
   ]
  },
  {
   "cell_type": "code",
   "execution_count": 11,
   "id": "a9285fa7-2e64-48e1-98a7-cbd26a145930",
   "metadata": {},
   "outputs": [
    {
     "name": "stdin",
     "output_type": "stream",
     "text": [
      "Enter a number: 52452\n"
     ]
    },
    {
     "name": "stdout",
     "output_type": "stream",
     "text": [
      "52452 is Even number\n"
     ]
    },
    {
     "data": {
      "text/plain": [
       "'even'"
      ]
     },
     "execution_count": 11,
     "metadata": {},
     "output_type": "execute_result"
    }
   ],
   "source": [
    "OddEven.OddEven()"
   ]
  },
  {
   "cell_type": "markdown",
   "id": "d0110359-e2aa-4f81-b8f4-28a3ce25449b",
   "metadata": {},
   "source": [
    "Create a function that tells elegibility of marriage for male and female according to their age limit like 21 for male and 18 for female\n",
    "ElegiblityForMarriage. Elegib()e\n",
    "\n",
    "Your Gender:Male Your Age:20 NOT ELIGIE ()"
   ]
  },
  {
   "cell_type": "code",
   "execution_count": 13,
   "id": "7c885a4b-7160-4981-bb75-3331d4a18102",
   "metadata": {},
   "outputs": [],
   "source": [
    "class ElegiblityForMarriage():\n",
    "    def Elegible():\n",
    "        Gender=input(\"Your Gender:\")\n",
    "        Age=int(input(\"Your Age:\"))\n",
    "        if(Age>=21):\n",
    "            print(\"Eligible for marriage\")\n",
    "            message=\"Eligible\"\n",
    "        elif(Age==18):\n",
    "            print(\"Eligible for marriage\")\n",
    "            message=\"Eligible\"\n",
    "        else:\n",
    "            print(\"Not Eligible\")\n",
    "            message=\"Not Eligible\"\n",
    "        return message"
   ]
  },
  {
   "cell_type": "code",
   "execution_count": 29,
   "id": "7e9b6432-99e6-4350-b839-4c49c69fb5c9",
   "metadata": {},
   "outputs": [
    {
     "name": "stdin",
     "output_type": "stream",
     "text": [
      "Your Gender: male\n",
      "Your Age: 20\n"
     ]
    },
    {
     "name": "stdout",
     "output_type": "stream",
     "text": [
      "Not Eligible\n"
     ]
    },
    {
     "data": {
      "text/plain": [
       "'Not Eligible'"
      ]
     },
     "execution_count": 29,
     "metadata": {},
     "output_type": "execute_result"
    }
   ],
   "source": [
    "ElegiblityForMarriage.Elegible()"
   ]
  },
  {
   "cell_type": "markdown",
   "id": "354037f6-23b4-4779-a11a-2287cf508cd9",
   "metadata": {},
   "source": [
    "calculate the percentage of your 10th mark\n",
    "Subject1= 98 Subject2= 87 Subject3= 95 Subject4= 95 Subject5= 93 Total : 468 Percentage : 93.60000000"
   ]
  },
  {
   "cell_type": "code",
   "execution_count": 17,
   "id": "e71fb3b0-846c-4dfa-9921-97e3b62286d0",
   "metadata": {},
   "outputs": [],
   "source": [
    "class mark():\n",
    "    def markpercent():\n",
    "        Subject1=int(input(\"Subject1=\"))\n",
    "        Subject2=int(input(\"Subject2=\"))\n",
    "        Subject3=int(input(\"Subject3=\"))\n",
    "        Subject4=int(input(\"Subject4=\"))\n",
    "        Subject5=int(input(\"Subject5=\"))\n",
    "        Sum=(Subject1+Subject2+Subject3+Subject4+Subject5)\n",
    "        print(\"Total:\", Sum)\n",
    "        percent=(Sum/500)*100\n",
    "        print(\"Percentage :\",percent)"
   ]
  },
  {
   "cell_type": "code",
   "execution_count": 27,
   "id": "2eef3ba5-042e-42dd-943d-c6f09e8fd733",
   "metadata": {},
   "outputs": [
    {
     "name": "stdin",
     "output_type": "stream",
     "text": [
      "Subject1= 98\n",
      "Subject2= 87\n",
      "Subject3= 95\n",
      "Subject4= 95\n",
      "Subject5= 93\n"
     ]
    },
    {
     "name": "stdout",
     "output_type": "stream",
     "text": [
      "Total: 468\n",
      "Percentage : 93.60000000000001\n"
     ]
    }
   ],
   "source": [
    "mark.markpercent()"
   ]
  },
  {
   "cell_type": "markdown",
   "id": "86c1753e-dcf8-4081-a407-8413837904e7",
   "metadata": {},
   "source": [
    "print area and perimeter of triangle using class and functions\n",
    "triangle.triangle()\n",
    "\n",
    "Height:32 Breadth:34 Area formula: (Height*Breadth)/2 Area of Triangle: 544.0 Height1:2 Height2:4 Breadth:4 Perimeter formula: Height1+Height2+Breadth Perimeter of Triangle: 10"
   ]
  },
  {
   "cell_type": "code",
   "execution_count": 21,
   "id": "8c17c41d-59ab-4f0e-b1ed-f5d1f2ac3d34",
   "metadata": {},
   "outputs": [],
   "source": [
    "class triangle():\n",
    "    def triangle():\n",
    "        Height=float(input(\"Height:\"))\n",
    "        Breadth=float(input(\"Breadth:\"))\n",
    "        Formula=(Height*Breadth)/2\n",
    "        print(\"Area of Triangle:\",Formula)\n",
    "        Height1=float(input(\"Height1:\"))\n",
    "        Height2=float(input(\"Height2:\"))\n",
    "        Breadth1=float(input(\"Breadth:\"))\n",
    "        Pf=Height1+Height2+Breadth1\n",
    "        print(\"Perimeter of Triangle:\",Pf)"
   ]
  },
  {
   "cell_type": "code",
   "execution_count": 25,
   "id": "e30f12dd-9421-4d41-8c19-668951fc139b",
   "metadata": {},
   "outputs": [
    {
     "name": "stdin",
     "output_type": "stream",
     "text": [
      "Height: 32\n",
      "Breadth: 34\n"
     ]
    },
    {
     "name": "stdout",
     "output_type": "stream",
     "text": [
      "Area of Triangle: 544.0\n"
     ]
    },
    {
     "name": "stdin",
     "output_type": "stream",
     "text": [
      "Height1: 2\n",
      "Height2: 4\n",
      "Breadth: 4\n"
     ]
    },
    {
     "name": "stdout",
     "output_type": "stream",
     "text": [
      "Perimeter of Triangle: 10.0\n"
     ]
    }
   ],
   "source": [
    "triangle.triangle()"
   ]
  },
  {
   "cell_type": "markdown",
   "id": "f26ac4ed-4f72-4256-bf2f-e21ca3d86c3d",
   "metadata": {},
   "source": [
    "Area of Triangle: 544.0\n",
    "Perimeter of Triangle: 10.0"
   ]
  }
 ],
 "metadata": {
  "kernelspec": {
   "display_name": "Python 3 (ipykernel)",
   "language": "python",
   "name": "python3"
  },
  "language_info": {
   "codemirror_mode": {
    "name": "ipython",
    "version": 3
   },
   "file_extension": ".py",
   "mimetype": "text/x-python",
   "name": "python",
   "nbconvert_exporter": "python",
   "pygments_lexer": "ipython3",
   "version": "3.12.4"
  }
 },
 "nbformat": 4,
 "nbformat_minor": 5
}
