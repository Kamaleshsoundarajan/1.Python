{
 "cells": [
  {
   "cell_type": "raw",
   "id": "d87021d6-d8f1-4f26-9668-a8b8bcd6799d",
   "metadata": {},
   "source": [
    "Print statement\n",
    "HOPE AI"
   ]
  },
  {
   "cell_type": "code",
   "execution_count": 1,
   "id": "922bcaa1-6633-4602-8bd6-f3abc6bbcff3",
   "metadata": {},
   "outputs": [
    {
     "name": "stdout",
     "output_type": "stream",
     "text": [
      "HOPE AI\n"
     ]
    }
   ],
   "source": [
    "print(\"HOPE AI\")"
   ]
  },
  {
   "cell_type": "markdown",
   "id": "0e1286e8-f8a2-4980-9c36-1e4e9d29d7d0",
   "metadata": {},
   "source": [
    "#Buy Input\n",
    "Enter your institute name? : HOPE AI"
   ]
  },
  {
   "cell_type": "code",
   "execution_count": 3,
   "id": "724cb190-aada-4ca3-a22d-870a236b3be0",
   "metadata": {},
   "outputs": [
    {
     "name": "stdin",
     "output_type": "stream",
     "text": [
      "Enter your institute name? : HOPE AI\n"
     ]
    }
   ],
   "source": [
    "Name=input(\"Enter your institute name? :\")"
   ]
  },
  {
   "cell_type": "markdown",
   "id": "d5eca94c-dc60-40d4-a315-585e85788faa",
   "metadata": {},
   "source": [
    "Buy inputs\n",
    "Enter your name: Raj Enter your age: 15 Enter your school name: Guru school Enter your drgree: B.E CSE"
   ]
  },
  {
   "cell_type": "code",
   "execution_count": 5,
   "id": "f4f7bb0a-11f4-407a-b12f-4ca694672522",
   "metadata": {},
   "outputs": [
    {
     "name": "stdin",
     "output_type": "stream",
     "text": [
      "Enter your name: Raj\n",
      "Enter your age: 15\n",
      "Enter your school name: Guru school\n",
      "Enter your degree: B.E CSE\n"
     ]
    }
   ],
   "source": [
    "name=input(\"Enter your name:\")\n",
    "age=int(input(\"Enter your age:\"))\n",
    "school=input(\"Enter your school name:\")\n",
    "Degree=input(\"Enter your degree:\")"
   ]
  },
  {
   "cell_type": "markdown",
   "id": "1c56795a-8da6-496e-bc51-f6bafa741341",
   "metadata": {},
   "source": [
    "Addition\n",
    "a= 43 b= 34 add = 77"
   ]
  },
  {
   "cell_type": "code",
   "execution_count": 7,
   "id": "7266240c-8fb9-4736-b3cc-4fef5d9c9aca",
   "metadata": {},
   "outputs": [
    {
     "name": "stdout",
     "output_type": "stream",
     "text": [
      "add= 77\n"
     ]
    }
   ],
   "source": [
    "a=43\n",
    "b=34\n",
    "add=a+b\n",
    "print(\"add=\",add)"
   ]
  },
  {
   "cell_type": "markdown",
   "id": "a5f18a78-6fc4-4f24-9ddb-92e14c4476ed",
   "metadata": {},
   "source": [
    "Subtraction\n",
    "a= 43 b= 34 Sub = 9"
   ]
  },
  {
   "cell_type": "code",
   "execution_count": 9,
   "id": "229ccf63-6edd-4ce1-b58e-c6aff42c4399",
   "metadata": {},
   "outputs": [
    {
     "name": "stdout",
     "output_type": "stream",
     "text": [
      "Sub= 9\n"
     ]
    }
   ],
   "source": [
    "a= 43\n",
    "b= 34\n",
    "Sub=a-b\n",
    "print(\"Sub=\",Sub)"
   ]
  },
  {
   "cell_type": "markdown",
   "id": "760c2404-acf5-4219-943f-4f0e0e1c3328",
   "metadata": {},
   "source": [
    "Multiplication\n",
    "a= 63 b= 97 Mul = 6111"
   ]
  },
  {
   "cell_type": "code",
   "execution_count": 11,
   "id": "f60f50ed-9d7b-46d5-b7c6-f666a9513535",
   "metadata": {},
   "outputs": [
    {
     "name": "stdout",
     "output_type": "stream",
     "text": [
      "Mul= 6111\n"
     ]
    }
   ],
   "source": [
    "a= 63\n",
    "b= 97\n",
    "Mul=a*b\n",
    "print(\"Mul=\",Mul)"
   ]
  },
  {
   "cell_type": "markdown",
   "id": "272f7759-3aa8-4af1-a7dd-d1fad87ad618",
   "metadata": {},
   "source": [
    "Division\n",
    "a= 76 b= 31 Float Div = 2.4516129032258065"
   ]
  },
  {
   "cell_type": "code",
   "execution_count": 13,
   "id": "3dcb0e69-ee2c-4a94-ae58-8c268ee95968",
   "metadata": {},
   "outputs": [
    {
     "name": "stdout",
     "output_type": "stream",
     "text": [
      "Float Div= 2.4516129032258065\n"
     ]
    }
   ],
   "source": [
    "a= 76\n",
    "b= 31\n",
    "Div=(a/b)\n",
    "print(\"Float Div=\",Div)"
   ]
  },
  {
   "cell_type": "markdown",
   "id": "08b394e5-ea17-4982-939d-b242fe5b3e4d",
   "metadata": {},
   "source": [
    "Floor division"
   ]
  },
  {
   "cell_type": "code",
   "execution_count": 15,
   "id": "61552a54-dd86-4097-8a56-11022fd66929",
   "metadata": {},
   "outputs": [
    {
     "name": "stdout",
     "output_type": "stream",
     "text": [
      "Floor Div= 2\n"
     ]
    }
   ],
   "source": [
    "a= 76\n",
    "b= 31\n",
    "Div=a//b\n",
    "print(\"Floor Div=\",Div)"
   ]
  },
  {
   "cell_type": "markdown",
   "id": "26582f1c-a87e-46fd-8927-cad27881467c",
   "metadata": {},
   "source": [
    "Modulo\n",
    "a= 76 b= 31 Modulo = 14"
   ]
  },
  {
   "cell_type": "code",
   "execution_count": 17,
   "id": "99647e7c-020c-46a8-8a75-6d81c266cb26",
   "metadata": {},
   "outputs": [
    {
     "name": "stdout",
     "output_type": "stream",
     "text": [
      "Modulo= 14\n"
     ]
    }
   ],
   "source": [
    "a= 76\n",
    "b= 31\n",
    "value=a%b\n",
    "print(\"Modulo=\",value)"
   ]
  },
  {
   "cell_type": "markdown",
   "id": "d3931937-0090-4884-805a-51e18abc23fc",
   "metadata": {},
   "source": [
    "Power\n",
    "a= 4 b= 4 Power = 256"
   ]
  },
  {
   "cell_type": "code",
   "execution_count": 19,
   "id": "d29d19e7-a632-49e4-b9d7-0a16ed697fc4",
   "metadata": {},
   "outputs": [
    {
     "name": "stdout",
     "output_type": "stream",
     "text": [
      "Power= 256\n"
     ]
    }
   ],
   "source": [
    "a= 4\n",
    "b= 4\n",
    "Mul=a*b\n",
    "print(\"Power=\",Mul**2)"
   ]
  },
  {
   "cell_type": "code",
   "execution_count": null,
   "id": "5c1bcff6-ef32-4fa5-8933-77203c4b48aa",
   "metadata": {},
   "outputs": [],
   "source": []
  }
 ],
 "metadata": {
  "kernelspec": {
   "display_name": "Python 3 (ipykernel)",
   "language": "python",
   "name": "python3"
  },
  "language_info": {
   "codemirror_mode": {
    "name": "ipython",
    "version": 3
   },
   "file_extension": ".py",
   "mimetype": "text/x-python",
   "name": "python",
   "nbconvert_exporter": "python",
   "pygments_lexer": "ipython3",
   "version": "3.12.4"
  }
 },
 "nbformat": 4,
 "nbformat_minor": 5
}
