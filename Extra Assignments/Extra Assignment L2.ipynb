{
 "cells": [
  {
   "cell_type": "code",
   "execution_count": 1,
   "id": "bb5972de-8fe4-4217-a1f2-e11835754ad9",
   "metadata": {},
   "outputs": [
    {
     "name": "stdout",
     "output_type": "stream",
     "text": [
      "0\n",
      "1\n",
      "2\n",
      "3\n",
      "4\n",
      "5\n",
      "6\n",
      "7\n",
      "8\n",
      "9\n",
      "10\n",
      "11\n",
      "12\n",
      "13\n",
      "14\n",
      "15\n",
      "16\n",
      "17\n",
      "18\n",
      "19\n"
     ]
    }
   ],
   "source": [
    "# print 0 to 20 by using range\n",
    "\n",
    "for num in range(0,20):\n",
    "    print(num)"
   ]
  },
  {
   "cell_type": "markdown",
   "id": "d85128ae-66ba-4b6a-908d-fdaa0c0e95bb",
   "metadata": {},
   "source": [
    "print range 10 to 20\n",
    "Expected o/p: 10 11 12 13 14 15 16 17 18 19"
   ]
  },
  {
   "cell_type": "code",
   "execution_count": 3,
   "id": "33f26737-c433-4dec-ab3d-3a4b061bdb5a",
   "metadata": {},
   "outputs": [
    {
     "name": "stdout",
     "output_type": "stream",
     "text": [
      "10 11 12 13 14 15 16 17 18 19 "
     ]
    }
   ],
   "source": [
    "for temp in range(10,20):\n",
    "    print(temp, end=' ')"
   ]
  },
  {
   "cell_type": "markdown",
   "id": "7f89a548-b88a-44f5-b1d5-117a7fe78594",
   "metadata": {},
   "source": [
    "Print number of items in the list by using 'len'\n",
    "\n",
    "Expected O/p:\n",
    "\n",
    "[10, 20, 14, 55, 43, 87, 76] Number of item in the List2: 7"
   ]
  },
  {
   "cell_type": "code",
   "execution_count": 5,
   "id": "c5ebdb7d-0fa2-47db-9cba-ab5982e86cc5",
   "metadata": {},
   "outputs": [
    {
     "name": "stdout",
     "output_type": "stream",
     "text": [
      "Number of item in the List2:\n",
      "7\n"
     ]
    }
   ],
   "source": [
    "List2=[10,20,14,55,43,87,76]\n",
    "x=len(List2)\n",
    "print(\"Number of item in the List2:\")\n",
    "print(x)"
   ]
  },
  {
   "cell_type": "markdown",
   "id": "38fafd03-a2db-4b33-82e3-bb2cb7b5b1d7",
   "metadata": {},
   "source": [
    "Expected O/p:\n",
    "\n",
    "Artificial Intelligence\n",
    "A\n",
    "r\n",
    "t\n",
    "i\n",
    "f\n",
    "i\n",
    "c\n",
    "i\n",
    "a\n",
    "l\n",
    "\n",
    "I\n",
    "n\n",
    "t\n",
    "e\n",
    "l\n",
    "l\n",
    "i\n",
    "g\n",
    "e\n",
    "n\n",
    "c\n",
    "e"
   ]
  },
  {
   "cell_type": "code",
   "execution_count": 7,
   "id": "c2720d79-e6ff-43c7-ba1f-c831cc66aa1f",
   "metadata": {},
   "outputs": [
    {
     "name": "stdout",
     "output_type": "stream",
     "text": [
      "A\n",
      "r\n",
      "t\n",
      "i\n",
      "f\n",
      "i\n",
      "c\n",
      "i\n",
      "a\n",
      "l\n",
      " \n",
      "I\n",
      "n\n",
      "t\n",
      "e\n",
      "l\n",
      "l\n",
      "i\n",
      "g\n",
      "e\n",
      "n\n",
      "c\n",
      "e\n"
     ]
    }
   ],
   "source": [
    "mainvariable= \"Artificial Intelligence\"\n",
    "for temp in mainvariable:\n",
    "    print(temp)"
   ]
  },
  {
   "cell_type": "markdown",
   "id": "b5917562-b11d-4ec3-a5d3-fce3e98063e6",
   "metadata": {},
   "source": [
    "Expected O/p:\n",
    "\n",
    "-Your Name-\n",
    "-Your Age-\n",
    "-Your Profession-"
   ]
  },
  {
   "cell_type": "code",
   "execution_count": 9,
   "id": "956815e3-c9f8-4678-8782-18766b95c0e1",
   "metadata": {},
   "outputs": [
    {
     "name": "stdout",
     "output_type": "stream",
     "text": [
      "-Your Name-\n",
      "-Your Age-\n",
      "-Your Profession-\n"
     ]
    }
   ],
   "source": [
    "list=[\"-Your Name-\", \"-Your Age-\", \"-Your Profession-\" ]\n",
    "for temp in list:\n",
    "    print(temp)"
   ]
  },
  {
   "cell_type": "markdown",
   "id": "a0deac77-a2c2-407e-9ca1-67de4ec26f70",
   "metadata": {},
   "source": [
    "Print this mixed datatype using Tuples\n",
    "Expected O/p:\n",
    "\n",
    "(1, 'Welcome', 2, 'Hope')"
   ]
  },
  {
   "cell_type": "code",
   "execution_count": 11,
   "id": "fc86d143-eac7-4529-8945-5706924f0f00",
   "metadata": {},
   "outputs": [
    {
     "name": "stdout",
     "output_type": "stream",
     "text": [
      "(1, 'Welcome', 2, 'Hope')\n"
     ]
    }
   ],
   "source": [
    "tuples=(1, \"Welcome\", 2, \"Hope\")\n",
    "print(tuples)"
   ]
  },
  {
   "cell_type": "markdown",
   "id": "4fdc5cca-712f-44b4-8ec7-a0135da405b9",
   "metadata": {},
   "source": [
    "Tuple1=(0, 1, 2, 3)\n",
    "\n",
    "Expected O/p:\n",
    "\n",
    "((0, 1, 2, 3), ('python', 'HOPE')), 'HOPE'))"
   ]
  },
  {
   "cell_type": "code",
   "execution_count": 13,
   "id": "842a580d-8240-4ae4-bbf7-084b764da378",
   "metadata": {},
   "outputs": [
    {
     "name": "stdout",
     "output_type": "stream",
     "text": [
      "((0, 1, 2, 3), ('python', 'HOPE'))\n"
     ]
    }
   ],
   "source": [
    "Tuple1=(0, 1, 2, 3)\n",
    "Tuple2=('python', 'HOPE')\n",
    "Tuple3=(Tuple1, Tuple2)\n",
    "print(Tuple3)"
   ]
  },
  {
   "cell_type": "markdown",
   "id": "526740b4-e969-42a7-bd98-27060f8fe5b9",
   "metadata": {},
   "source": [
    "print Odd Numbers in the list\n",
    "(20,10,16,19,25,1,276,188) 19 is odd 25 is odd 1 is odd"
   ]
  },
  {
   "cell_type": "code",
   "execution_count": 15,
   "id": "efcd6d09-1ee9-4dde-a607-1856d83d9534",
   "metadata": {},
   "outputs": [
    {
     "name": "stdout",
     "output_type": "stream",
     "text": [
      "19 is odd\n",
      "25 is odd\n",
      "1 is odd\n"
     ]
    }
   ],
   "source": [
    "list=[20,10,16,19,25,1,276,188]\n",
    "\n",
    "for num in list:\n",
    "    if((num%2)==1):\n",
    "        print(num, \"is odd\")"
   ]
  },
  {
   "cell_type": "markdown",
   "id": "f8d015b6-2d96-4572-b4fe-b729c9e4b85a",
   "metadata": {},
   "source": [
    "print Even numbers in the list\n",
    "(20,10,16,19,25,1,276,188) 20 is odd 10 is odd 16 is odd 276 is odd 188 is odd"
   ]
  },
  {
   "cell_type": "code",
   "execution_count": 17,
   "id": "cce45a04-761c-4cd8-b309-29fa4288fc15",
   "metadata": {},
   "outputs": [
    {
     "name": "stdout",
     "output_type": "stream",
     "text": [
      "20 is even\n",
      "10 is even\n",
      "16 is even\n",
      "276 is even\n",
      "188 is even\n"
     ]
    }
   ],
   "source": [
    "list=[20,10,16,19,25,1,276,188]\n",
    "\n",
    "for num in list:\n",
    "    if((num%2)==0):\n",
    "        print(num, \"is even\")"
   ]
  },
  {
   "cell_type": "code",
   "execution_count": null,
   "id": "d099f03d-5cd5-4c9d-b4da-6614eefcd0c3",
   "metadata": {},
   "outputs": [],
   "source": []
  }
 ],
 "metadata": {
  "kernelspec": {
   "display_name": "Python 3 (ipykernel)",
   "language": "python",
   "name": "python3"
  },
  "language_info": {
   "codemirror_mode": {
    "name": "ipython",
    "version": 3
   },
   "file_extension": ".py",
   "mimetype": "text/x-python",
   "name": "python",
   "nbconvert_exporter": "python",
   "pygments_lexer": "ipython3",
   "version": "3.12.4"
  }
 },
 "nbformat": 4,
 "nbformat_minor": 5
}
