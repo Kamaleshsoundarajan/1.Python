{
 "cells": [
  {
   "cell_type": "markdown",
   "id": "69f3eac0-316e-4738-8c55-c1630d58fa4d",
   "metadata": {},
   "source": [
    "print 'CORRECT' if i == 10\n",
    "value: 10 Corret"
   ]
  },
  {
   "cell_type": "code",
   "execution_count": 1,
   "id": "27e90c21-49e6-4576-b441-71b5b311e7d3",
   "metadata": {},
   "outputs": [
    {
     "name": "stdin",
     "output_type": "stream",
     "text": [
      "value: 10\n"
     ]
    },
    {
     "name": "stdout",
     "output_type": "stream",
     "text": [
      "Correct\n"
     ]
    }
   ],
   "source": [
    "i = int(input(\"value:\"))\n",
    "if(i==10):\n",
    "    print(\"Correct\")"
   ]
  },
  {
   "cell_type": "markdown",
   "id": "cf2f468b-eab5-4e0e-af7e-19ac681b7b73",
   "metadata": {},
   "source": [
    "Check the password, using if and else\n",
    "Enter the password: HOPE@123 Your password is correct"
   ]
  },
  {
   "cell_type": "code",
   "execution_count": 3,
   "id": "0c224053-8b19-48ba-bcc8-9fea59980222",
   "metadata": {},
   "outputs": [
    {
     "name": "stdin",
     "output_type": "stream",
     "text": [
      "Enter the password: HOPE@123\n"
     ]
    },
    {
     "name": "stdout",
     "output_type": "stream",
     "text": [
      "Your password is correct\n"
     ]
    }
   ],
   "source": [
    "password = \"HOPE@123\"\n",
    "i=input(\"Enter the password:\")\n",
    "if(password==i):\n",
    "    print(\"Your password is correct\")\n",
    "else:\n",
    "    print(\"Your password is incorrect\")"
   ]
  },
  {
   "cell_type": "markdown",
   "id": "cec38af1-a610-48d0-b757-bdd3c2c3fc03",
   "metadata": {},
   "source": [
    "Catagory the people by their age like children, adult, citizen, senior citizen...\n",
    "age: 20 Adult"
   ]
  },
  {
   "cell_type": "code",
   "execution_count": 5,
   "id": "a0cb7198-0f6e-44bd-9409-597e9fced464",
   "metadata": {},
   "outputs": [
    {
     "name": "stdin",
     "output_type": "stream",
     "text": [
      "age: 20\n"
     ]
    },
    {
     "name": "stdout",
     "output_type": "stream",
     "text": [
      "Adult\n"
     ]
    }
   ],
   "source": [
    "i=int(input(\"age:\"))\n",
    "if(i==20):\n",
    "    print(\"Adult\")\n",
    "elif(i<18):\n",
    "    print(\"Children\")\n",
    "elif(i<=60):\n",
    "    print(\"Citizen\")\n",
    "else:\n",
    "    print(\"Senior Citizen\")"
   ]
  },
  {
   "cell_type": "markdown",
   "id": "ce25352c-efec-455c-ba37-4488d4948824",
   "metadata": {},
   "source": [
    "Find whether given number is positive or negative\n",
    "Expected O/p:\n",
    "\n",
    "Enter any number:1 No is positive"
   ]
  },
  {
   "cell_type": "code",
   "execution_count": 7,
   "id": "7faaa355-1c6c-42b6-9a55-db6bcd161831",
   "metadata": {},
   "outputs": [
    {
     "name": "stdin",
     "output_type": "stream",
     "text": [
      "Enter any number: 1\n"
     ]
    },
    {
     "name": "stdout",
     "output_type": "stream",
     "text": [
      "No is positive\n"
     ]
    }
   ],
   "source": [
    "Num=int(input(\"Enter any number:\"))\n",
    "if(Num>0):\n",
    "    print(\"No is positive\")\n",
    "else:\n",
    "    print(\"No is negative\")"
   ]
  },
  {
   "cell_type": "markdown",
   "id": "a67c182b-03cc-4a26-a30e-46a088d2a9da",
   "metadata": {},
   "source": [
    "Check whether the given number is divisible by 5\n",
    "Enter a number to check:22 No is not divisible by 5"
   ]
  },
  {
   "cell_type": "code",
   "execution_count": 9,
   "id": "62e56c1d-8103-4a83-964a-ffda1999c5fb",
   "metadata": {},
   "outputs": [
    {
     "name": "stdin",
     "output_type": "stream",
     "text": [
      "Enter a number to check: 1\n"
     ]
    },
    {
     "name": "stdout",
     "output_type": "stream",
     "text": [
      "No is not divisible by 5\n"
     ]
    }
   ],
   "source": [
    "Num=int(input(\"Enter a number to check:\"))\n",
    "if(Num%5):\n",
    "    print(\"No is not divisible by 5\")\n",
    "else:\n",
    "    print(\"No is divisible by 5\")"
   ]
  },
  {
   "cell_type": "code",
   "execution_count": null,
   "id": "c7442f79-2cfb-4506-b021-8504a91f1ac9",
   "metadata": {},
   "outputs": [],
   "source": []
  }
 ],
 "metadata": {
  "kernelspec": {
   "display_name": "Python 3 (ipykernel)",
   "language": "python",
   "name": "python3"
  },
  "language_info": {
   "codemirror_mode": {
    "name": "ipython",
    "version": 3
   },
   "file_extension": ".py",
   "mimetype": "text/x-python",
   "name": "python",
   "nbconvert_exporter": "python",
   "pygments_lexer": "ipython3",
   "version": "3.12.4"
  }
 },
 "nbformat": 4,
 "nbformat_minor": 5
}
